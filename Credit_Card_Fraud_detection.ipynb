{
  "metadata": {
    "kernelspec": {
      "language": "python",
      "display_name": "Python 3",
      "name": "python3"
    },
    "language_info": {
      "pygments_lexer": "ipython3",
      "nbconvert_exporter": "python",
      "version": "3.6.4",
      "file_extension": ".py",
      "codemirror_mode": {
        "name": "ipython",
        "version": 3
      },
      "name": "python",
      "mimetype": "text/x-python"
    },
    "colab": {
      "name": "Credit Card Fraud detection",
      "provenance": []
    }
  },
  "nbformat_minor": 0,
  "nbformat": 4,
  "cells": [
    {
      "source": [
        "\n",
        "import kagglehub\n",
        "kartik2112_fraud_detection_path = kagglehub.dataset_download('kartik2112/fraud-detection')\n",
        "\n",
        "print('Data source import complete.')\n"
      ],
      "metadata": {
        "id": "KCs0_w5fR6j0"
      },
      "cell_type": "code",
      "outputs": [],
      "execution_count": null
    },
    {
      "cell_type": "code",
      "source": [
        "import numpy as np\n",
        "import pandas as pd\n",
        "from sklearn.linear_model import LogisticRegression\n",
        "from sklearn.tree import DecisionTreeClassifier\n",
        "from sklearn.ensemble import RandomForestClassifier\n",
        "from sklearn.metrics import accuracy_score, classification_report\n",
        "from sklearn.preprocessing import StandardScaler"
      ],
      "metadata": {
        "execution": {
          "iopub.status.busy": "2023-10-27T03:32:11.153679Z",
          "iopub.execute_input": "2023-10-27T03:32:11.154102Z",
          "iopub.status.idle": "2023-10-27T03:32:11.516017Z",
          "shell.execute_reply.started": "2023-10-27T03:32:11.154073Z",
          "shell.execute_reply": "2023-10-27T03:32:11.514787Z"
        },
        "trusted": true,
        "id": "RCNeNJBaR6j1"
      },
      "execution_count": null,
      "outputs": []
    },
    {
      "cell_type": "code",
      "source": [
        "train_location = r\"/kaggle/input/fraud-detection/fraudTrain.csv\"\n",
        "train_df = pd.read_csv(train_location)\n",
        "test_location = r\"/kaggle/input/fraud-detection/fraudTest.csv\"\n",
        "test_df = pd.read_csv(test_location)\n",
        "train_df.head()"
      ],
      "metadata": {
        "execution": {
          "iopub.status.busy": "2023-10-27T03:32:26.705472Z",
          "iopub.execute_input": "2023-10-27T03:32:26.705904Z",
          "iopub.status.idle": "2023-10-27T03:32:38.621823Z",
          "shell.execute_reply.started": "2023-10-27T03:32:26.70587Z",
          "shell.execute_reply": "2023-10-27T03:32:38.62057Z"
        },
        "trusted": true,
        "id": "vUQqAh29R6j2"
      },
      "execution_count": null,
      "outputs": []
    },
    {
      "cell_type": "code",
      "source": [
        "train_df.isnull().sum()"
      ],
      "metadata": {
        "execution": {
          "iopub.status.busy": "2023-10-27T03:32:38.623522Z",
          "iopub.execute_input": "2023-10-27T03:32:38.623868Z",
          "iopub.status.idle": "2023-10-27T03:32:39.350201Z",
          "shell.execute_reply.started": "2023-10-27T03:32:38.623838Z",
          "shell.execute_reply": "2023-10-27T03:32:39.349053Z"
        },
        "trusted": true,
        "id": "YCEmaUEKR6j3"
      },
      "execution_count": null,
      "outputs": []
    },
    {
      "cell_type": "code",
      "source": [
        "def data_pre(X):\n",
        "\n",
        "    del_col=['merchant','first','last','street','zip','unix_time','Unnamed: 0','trans_num','cc_num']\n",
        "    X.drop(columns=del_col,inplace=True)\n",
        "\n",
        "\n",
        "    X['trans_date_trans_time']=pd.to_datetime(X['trans_date_trans_time'])\n",
        "    X['trans_date']=X['trans_date_trans_time'].dt.strftime('%Y-%m-%d')\n",
        "    X['trans_date']=pd.to_datetime(X['trans_date'])\n",
        "    X['dob']=pd.to_datetime(X['dob'])\n",
        "\n",
        "\n",
        "    X[\"age\"] = (X[\"trans_date\"] - X[\"dob\"]).dt.days //365\n",
        "    X['trans_month']=X['trans_date'].dt.month\n",
        "    X['trans_year']=X['trans_date'].dt.year\n",
        "\n",
        "\n",
        "    X['gender']=X['gender'].apply(lambda x : 1 if x=='M' else 0)\n",
        "    X['gender']=X['gender'].astype(int)\n",
        "\n",
        "\n",
        "    X['lat_dis']=abs(X['lat']-X['merch_lat'])\n",
        "    X['long_dis']=abs(X['long']-X['merch_long'])\n",
        "\n",
        "    X=pd.get_dummies(X,columns=['category'])\n",
        "    X=X.drop(columns=['city','trans_date_trans_time','state','job','merch_lat','merch_long','lat','long','dob','trans_date'])\n",
        "    return X\n",
        ""
      ],
      "metadata": {
        "execution": {
          "iopub.status.busy": "2023-10-27T03:33:58.905534Z",
          "iopub.execute_input": "2023-10-27T03:33:58.905942Z",
          "iopub.status.idle": "2023-10-27T03:33:58.915381Z",
          "shell.execute_reply.started": "2023-10-27T03:33:58.90591Z",
          "shell.execute_reply": "2023-10-27T03:33:58.914194Z"
        },
        "trusted": true,
        "id": "gVu8bQjeR6j3"
      },
      "execution_count": null,
      "outputs": []
    },
    {
      "cell_type": "code",
      "source": [
        "train_df_pre=data_pre(train_df.copy())\n",
        "train_df_pre.head()\n",
        "test_df_pre=data_pre(test_df.copy())\n",
        "test_df_pre.head()"
      ],
      "metadata": {
        "execution": {
          "iopub.status.busy": "2023-10-27T03:34:07.978545Z",
          "iopub.execute_input": "2023-10-27T03:34:07.97922Z",
          "iopub.status.idle": "2023-10-27T03:34:13.488093Z",
          "shell.execute_reply.started": "2023-10-27T03:34:07.979191Z",
          "shell.execute_reply": "2023-10-27T03:34:13.486916Z"
        },
        "trusted": true,
        "id": "BEpxV0FbR6j4"
      },
      "execution_count": null,
      "outputs": []
    },
    {
      "cell_type": "code",
      "source": [
        "x_train=train_df_pre.drop('is_fraud',axis=1)\n",
        "y_train=train_df_pre['is_fraud']\n",
        "x_test=test_df_pre.drop('is_fraud',axis=1)\n",
        "y_test=test_df_pre['is_fraud']"
      ],
      "metadata": {
        "execution": {
          "iopub.status.busy": "2023-10-27T03:34:13.490113Z",
          "iopub.execute_input": "2023-10-27T03:34:13.491007Z",
          "iopub.status.idle": "2023-10-27T03:34:13.564456Z",
          "shell.execute_reply.started": "2023-10-27T03:34:13.490966Z",
          "shell.execute_reply": "2023-10-27T03:34:13.563476Z"
        },
        "trusted": true,
        "id": "aZlRp7KgR6j4"
      },
      "execution_count": null,
      "outputs": []
    },
    {
      "cell_type": "code",
      "source": [
        "scaler = StandardScaler()\n",
        "scaler.fit(x_train)\n",
        "x_train=scaler.transform(x_train)\n",
        "x_test=scaler.transform(x_test)\n"
      ],
      "metadata": {
        "execution": {
          "iopub.status.busy": "2023-10-27T03:34:23.031945Z",
          "iopub.execute_input": "2023-10-27T03:34:23.032653Z",
          "iopub.status.idle": "2023-10-27T03:34:25.249031Z",
          "shell.execute_reply.started": "2023-10-27T03:34:23.032615Z",
          "shell.execute_reply": "2023-10-27T03:34:25.247952Z"
        },
        "trusted": true,
        "id": "QQQ7qk3SR6j5"
      },
      "execution_count": null,
      "outputs": []
    },
    {
      "cell_type": "code",
      "source": [
        "logistic_regression=LogisticRegression()\n",
        "logistic_regression.fit(x_train,y_train)\n",
        "y_pred_logistic = logistic_regression.predict(x_test)\n",
        "accuracy_logistic = accuracy_score(y_test, y_pred_logistic)\n",
        "accuracy_logistic\n",
        "print(\"\\nClassification Report for Logistic Regression:\\n\", classification_report(y_test, y_pred_logistic))"
      ],
      "metadata": {
        "execution": {
          "iopub.status.busy": "2023-10-27T03:34:29.379751Z",
          "iopub.execute_input": "2023-10-27T03:34:29.380141Z",
          "iopub.status.idle": "2023-10-27T03:34:34.934092Z",
          "shell.execute_reply.started": "2023-10-27T03:34:29.380109Z",
          "shell.execute_reply": "2023-10-27T03:34:34.932934Z"
        },
        "trusted": true,
        "id": "H21X1nxpR6j6"
      },
      "execution_count": null,
      "outputs": []
    },
    {
      "cell_type": "code",
      "source": [
        "DecisionTree=DecisionTreeClassifier()\n",
        "DecisionTree.fit(x_train,y_train)\n",
        "y_pred_dt = DecisionTree.predict(x_test)\n",
        "accuracy_dt = accuracy_score(y_test, y_pred_dt)\n",
        "accuracy_dt\n",
        "print(\"\\nClassification Report for Decision Tree:\\n\", classification_report(y_test, y_pred_dt))"
      ],
      "metadata": {
        "execution": {
          "iopub.status.busy": "2023-10-27T03:34:38.481861Z",
          "iopub.execute_input": "2023-10-27T03:34:38.482259Z",
          "iopub.status.idle": "2023-10-27T03:35:00.129082Z",
          "shell.execute_reply.started": "2023-10-27T03:34:38.482227Z",
          "shell.execute_reply": "2023-10-27T03:35:00.127886Z"
        },
        "trusted": true,
        "id": "Xd_EemGNR6j6"
      },
      "execution_count": null,
      "outputs": []
    },
    {
      "cell_type": "code",
      "source": [
        "random_forest = RandomForestClassifier(random_state=42,n_estimators=100)\n",
        "random_forest.fit(x_train, y_train)\n",
        "y_pred_rf = random_forest.predict(x_test)\n",
        "accuracy_rf = accuracy_score(y_test, y_pred_rf)\n",
        "accuracy_rf\n",
        "print(\"\\nClassification Report for Random Forest:\\n\", classification_report(y_test, y_pred_rf))"
      ],
      "metadata": {
        "execution": {
          "iopub.status.busy": "2023-10-27T03:41:57.029829Z",
          "iopub.execute_input": "2023-10-27T03:41:57.030926Z",
          "iopub.status.idle": "2023-10-27T03:48:52.139716Z",
          "shell.execute_reply.started": "2023-10-27T03:41:57.03085Z",
          "shell.execute_reply": "2023-10-27T03:48:52.138526Z"
        },
        "trusted": true,
        "id": "vWKZdbGzR6j7"
      },
      "execution_count": null,
      "outputs": []
    }
  ]
}