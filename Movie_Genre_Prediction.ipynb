{
  "metadata": {
    "kernelspec": {
      "language": "python",
      "display_name": "Python 3",
      "name": "python3"
    },
    "language_info": {
      "pygments_lexer": "ipython3",
      "nbconvert_exporter": "python",
      "version": "3.6.4",
      "file_extension": ".py",
      "codemirror_mode": {
        "name": "ipython",
        "version": 3
      },
      "name": "python",
      "mimetype": "text/x-python"
    },
    "colab": {
      "name": "Movie Genre Prediction",
      "provenance": []
    }
  },
  "nbformat_minor": 0,
  "nbformat": 4,
  "cells": [
    {
      "source": [
        "\n",
        "import kagglehub\n",
        "hijest_genre_classification_dataset_imdb_path = kagglehub.dataset_download('hijest/genre-classification-dataset-imdb')\n",
        "\n",
        "print('Data source import complete.')\n"
      ],
      "metadata": {
        "id": "BI9n8ca3RS0d"
      },
      "cell_type": "code",
      "outputs": [],
      "execution_count": null
    },
    {
      "cell_type": "markdown",
      "source": [
        "<H1> Import nacessary libaries"
      ],
      "metadata": {
        "id": "baoDZvEHUb8T"
      }
    },
    {
      "cell_type": "code",
      "source": [
        "import pandas as pd\n",
        "import re\n",
        "from sklearn.feature_extraction.text import TfidfVectorizer\n",
        "from gensim.models import Word2Vec\n",
        "from sklearn.ensemble import RandomForestClassifier\n",
        "from sklearn.model_selection import train_test_split\n",
        "from sklearn.metrics import accuracy_score, precision_score, recall_score, classification_report, confusion_matrix\n",
        "from sklearn.preprocessing import LabelEncoder"
      ],
      "metadata": {
        "id": "Kk_RmLVoUj95",
        "execution": {
          "iopub.status.busy": "2023-08-10T04:21:46.802711Z",
          "iopub.execute_input": "2023-08-10T04:21:46.803201Z",
          "iopub.status.idle": "2023-08-10T04:21:48.299549Z",
          "shell.execute_reply.started": "2023-08-10T04:21:46.803158Z",
          "shell.execute_reply": "2023-08-10T04:21:48.298269Z"
        },
        "trusted": true
      },
      "execution_count": null,
      "outputs": []
    },
    {
      "cell_type": "markdown",
      "source": [
        "<H1> Import dataset from drive"
      ],
      "metadata": {
        "id": "oo1V6d8vUm2S"
      }
    },
    {
      "cell_type": "code",
      "source": [
        "train_data = pd.read_csv(\"/kaggle/input/genre-classification-dataset-imdb/Genre Classification Dataset/train_data.txt\", sep=':::', names=['Title', 'Genre', 'Description'], engine='python')\n",
        "train_data.head()\n"
      ],
      "metadata": {
        "id": "s4CUECulUuHC",
        "execution": {
          "iopub.status.busy": "2023-08-10T04:24:24.284003Z",
          "iopub.execute_input": "2023-08-10T04:24:24.284475Z",
          "iopub.status.idle": "2023-08-10T04:24:25.147325Z",
          "shell.execute_reply.started": "2023-08-10T04:24:24.28444Z",
          "shell.execute_reply": "2023-08-10T04:24:25.146145Z"
        },
        "trusted": true
      },
      "execution_count": null,
      "outputs": []
    },
    {
      "cell_type": "code",
      "source": [
        "test_data = pd.read_csv(\"/kaggle/input/genre-classification-dataset-imdb/Genre Classification Dataset/test_data.txt\", sep=':::', names=['Title', 'Description'], engine='python')\n",
        "test_data.head()\n",
        "\n"
      ],
      "metadata": {
        "id": "7RBM52OAVDIa",
        "execution": {
          "iopub.status.busy": "2023-08-10T04:24:36.646917Z",
          "iopub.execute_input": "2023-08-10T04:24:36.647373Z",
          "iopub.status.idle": "2023-08-10T04:24:37.820582Z",
          "shell.execute_reply.started": "2023-08-10T04:24:36.647336Z",
          "shell.execute_reply": "2023-08-10T04:24:37.818161Z"
        },
        "trusted": true
      },
      "execution_count": null,
      "outputs": []
    },
    {
      "cell_type": "code",
      "source": [
        "combined_data = pd.concat([train_data, test_data], ignore_index=True)\n",
        "data = combined_data"
      ],
      "metadata": {
        "id": "d24LK_x3VNgz",
        "execution": {
          "iopub.status.busy": "2023-08-10T04:24:42.708118Z",
          "iopub.execute_input": "2023-08-10T04:24:42.708563Z",
          "iopub.status.idle": "2023-08-10T04:24:42.726979Z",
          "shell.execute_reply.started": "2023-08-10T04:24:42.708527Z",
          "shell.execute_reply": "2023-08-10T04:24:42.725404Z"
        },
        "trusted": true
      },
      "execution_count": null,
      "outputs": []
    },
    {
      "cell_type": "markdown",
      "source": [
        "<h1> Data Preprocessing and Features Extraction"
      ],
      "metadata": {
        "id": "6KCVnaLGVPwr"
      }
    },
    {
      "cell_type": "code",
      "source": [
        "\n",
        "data = data.dropna()\n",
        "corpus = data[\"Description\"].apply(lambda x: re.findall(r'\\w+', x.lower()))\n",
        "word2vec_model = Word2Vec(corpus, vector_size=100, window=5, min_count=1, workers=4)\n",
        "\n",
        "def get_sentence_embedding(sentence):\n",
        "    words = re.findall(r'\\w+', sentence.lower())\n",
        "    vectors = [word2vec_model.wv[word] for word in words if word in word2vec_model.wv]\n",
        "    return sum(vectors) / len(vectors) if vectors else [0] * 100\n",
        "\n",
        "data[\"embeddings\"] = data[\"Description\"].apply(get_sentence_embedding)\n",
        "X = pd.DataFrame(data[\"embeddings\"].to_list())\n",
        "\n",
        "label_encoder = LabelEncoder()\n",
        "data[\"genre_encoded\"] = label_encoder.fit_transform(data[\"Genre\"])\n",
        "y = data[\"genre_encoded\"]"
      ],
      "metadata": {
        "id": "McT0UrFsVO0E",
        "execution": {
          "iopub.status.busy": "2023-08-10T04:24:48.855748Z",
          "iopub.execute_input": "2023-08-10T04:24:48.856246Z",
          "iopub.status.idle": "2023-08-10T04:25:57.768334Z",
          "shell.execute_reply.started": "2023-08-10T04:24:48.856204Z",
          "shell.execute_reply": "2023-08-10T04:25:57.767057Z"
        },
        "trusted": true
      },
      "execution_count": null,
      "outputs": []
    },
    {
      "cell_type": "code",
      "source": [
        "import matplotlib.pyplot as plt\n",
        "\n",
        "plt.figure(figsize=(10, 6))\n",
        "genre_counts = data[\"Genre\"].value_counts()\n",
        "genre_counts.plot(kind=\"bar\")\n",
        "plt.xlabel(\"Genre\")\n",
        "plt.ylabel(\"Count\")\n",
        "plt.title(\"Genre Distribution\")\n",
        "plt.xticks(rotation=45, ha='right')\n",
        "plt.show()\n",
        "\n"
      ],
      "metadata": {
        "id": "gffRPd7Qd0UO",
        "execution": {
          "iopub.status.busy": "2023-08-10T04:27:25.302507Z",
          "iopub.execute_input": "2023-08-10T04:27:25.302966Z",
          "iopub.status.idle": "2023-08-10T04:27:25.871772Z",
          "shell.execute_reply.started": "2023-08-10T04:27:25.302918Z",
          "shell.execute_reply": "2023-08-10T04:27:25.870326Z"
        },
        "trusted": true
      },
      "execution_count": null,
      "outputs": []
    },
    {
      "cell_type": "markdown",
      "source": [
        "<h1> Model : **Random Forest Classifier**"
      ],
      "metadata": {
        "id": "fjAWvK3nV4h9"
      }
    },
    {
      "cell_type": "code",
      "source": [
        "X_train, X_test, y_train, y_test = train_test_split(X, y, test_size=0.2)\n",
        "\n",
        "\n",
        "model = RandomForestClassifier(n_estimators=100, random_state=42)\n",
        "model.fit(X_train, y_train)\n",
        "\n",
        "\n",
        "predictions = model.predict(X_test)\n",
        "precision = precision_score(y_test, predictions, average='weighted')\n",
        "recall = recall_score(y_test, predictions, average='weighted')\n",
        "accuracy = accuracy_score(y_test, predictions)\n",
        "\n",
        "print(\"Precision:\", precision)\n",
        "print(\"Recall:\", recall)\n",
        "print(\"Accuracy:\", accuracy)\n",
        "\n",
        "# Print the classification report\n",
        "print(classification_report(y_test, predictions))\n",
        "\n",
        "# Print the confusion matrix\n",
        "confusion_mat = confusion_matrix(y_test, predictions)\n",
        "print(\"Confusion Matrix:\")\n",
        "print(confusion_mat)"
      ],
      "metadata": {
        "id": "59KkNMk-WfRs",
        "execution": {
          "iopub.status.busy": "2023-08-10T04:27:30.657934Z",
          "iopub.execute_input": "2023-08-10T04:27:30.659462Z",
          "iopub.status.idle": "2023-08-10T04:29:01.450165Z",
          "shell.execute_reply.started": "2023-08-10T04:27:30.659399Z",
          "shell.execute_reply": "2023-08-10T04:29:01.449015Z"
        },
        "trusted": true
      },
      "execution_count": null,
      "outputs": []
    },
    {
      "cell_type": "markdown",
      "source": [
        "<h1>Genre Prediction"
      ],
      "metadata": {
        "id": "fgB6Hr1fWmrC"
      }
    },
    {
      "cell_type": "code",
      "source": [
        "import pandas as pd\n",
        "import re\n",
        "from sklearn.feature_extraction.text import TfidfVectorizer\n",
        "from gensim.models import Word2Vec\n",
        "from sklearn.ensemble import RandomForestClassifier\n",
        "from sklearn.model_selection import train_test_split\n",
        "from sklearn.metrics import accuracy_score, precision_score, recall_score, classification_report, confusion_matrix\n",
        "from sklearn.preprocessing import LabelEncoder\n",
        "\n",
        "def get_sentence_embedding(sentence):\n",
        "    words = re.findall(r'\\w+', sentence.lower())\n",
        "    vectors = [word2vec_model.wv[word] for word in words if word in word2vec_model.wv]\n",
        "    return sum(vectors) / len(vectors) if vectors else [0] * 100\n",
        "\n",
        "def train_model():\n",
        "    train_data = pd.read_csv(\"/kaggle/input/genre-classification-dataset-imdb/Genre Classification Dataset/train_data.txt\", sep=':::', names=['Title', 'Genre', 'Description'], engine='python')\n",
        "    test_data = pd.read_csv(\"/kaggle/input/genre-classification-dataset-imdb/Genre Classification Dataset/test_data.txt\", sep=':::', names=['Title', 'Description'], engine='python')\n",
        "    combined_data = pd.concat([train_data, test_data], ignore_index=True)\n",
        "    data = combined_data\n",
        "    data = data.dropna()\n",
        "    corpus = data[\"Description\"].apply(lambda x: re.findall(r'\\w+', x.lower()))\n",
        "    word2vec_model = Word2Vec(corpus, vector_size=100, window=5, min_count=1, workers=4)\n",
        "\n",
        "\n",
        "    def get_sentence_embedding(sentence):\n",
        "        words = re.findall(r'\\w+', sentence.lower())\n",
        "        vectors = [word2vec_model.wv[word] for word in words if word in word2vec_model.wv]\n",
        "        return sum(vectors) / len(vectors) if vectors else [0] * 100\n",
        "\n",
        "    data[\"embeddings\"] = data[\"Description\"].apply(get_sentence_embedding)\n",
        "    X = pd.DataFrame(data[\"embeddings\"].to_list())\n",
        "    label_encoder = LabelEncoder()\n",
        "    data[\"genre_encoded\"] = label_encoder.fit_transform(data[\"Genre\"])\n",
        "    y = data[\"genre_encoded\"]\n",
        "    X_train, X_test, y_train, y_test = train_test_split(X, y, test_size=0.2)\n",
        "    model = RandomForestClassifier(n_estimators=100, random_state=42)\n",
        "    model.fit(X_train, y_train)\n",
        "\n",
        "    return model, label_encoder\n",
        "\n",
        "def predict_genre(model, label_encoder, new_descriptions):\n",
        "    new_embeddings = [get_sentence_embedding(desc) for desc in new_descriptions]\n",
        "    new_X = pd.DataFrame(new_embeddings)\n",
        "    new_predictions = model.predict(new_X)\n",
        "    predicted_genres = label_encoder.inverse_transform(new_predictions)\n",
        "\n",
        "    return predicted_genres\n",
        "\n",
        "trained_model, genre_label_encoder = train_model()\n",
        "\n",
        "new_descriptions = [\"A group of friends embark on an adventurous journey.\",\"In a dystopian future, a hero rises to save the world.\",\"A heartwarming story of family and friendship.\"]\n",
        "\n",
        "\n",
        "predicted_genres = predict_genre(trained_model, genre_label_encoder, new_descriptions)\n",
        "\n",
        "for desc, genre in zip(new_descriptions, predicted_genres):\n",
        "    print(f\"Description: {desc}\")\n",
        "    print(f\"Predicted Genre: {genre}\")\n",
        "    print()\n"
      ],
      "metadata": {
        "id": "tRmqL--cWzKO",
        "execution": {
          "iopub.status.busy": "2023-08-10T04:29:55.668879Z",
          "iopub.execute_input": "2023-08-10T04:29:55.669348Z",
          "iopub.status.idle": "2023-08-10T04:32:34.180415Z",
          "shell.execute_reply.started": "2023-08-10T04:29:55.669312Z",
          "shell.execute_reply": "2023-08-10T04:32:34.179163Z"
        },
        "trusted": true
      },
      "execution_count": null,
      "outputs": []
    }
  ]
}