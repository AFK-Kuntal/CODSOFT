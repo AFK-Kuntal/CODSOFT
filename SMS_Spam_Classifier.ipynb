{
  "metadata": {
    "kernelspec": {
      "language": "python",
      "display_name": "Python 3",
      "name": "python3"
    },
    "language_info": {
      "name": "python",
      "version": "3.10.13",
      "mimetype": "text/x-python",
      "codemirror_mode": {
        "name": "ipython",
        "version": 3
      },
      "pygments_lexer": "ipython3",
      "nbconvert_exporter": "python",
      "file_extension": ".py"
    },
    "kaggle": {
      "accelerator": "none",
      "dataSources": [
        {
          "sourceId": 982,
          "sourceType": "datasetVersion",
          "datasetId": 483
        }
      ],
      "dockerImageVersionId": 30746,
      "isInternetEnabled": true,
      "language": "python",
      "sourceType": "notebook",
      "isGpuEnabled": false
    },
    "colab": {
      "name": "SMS Spam Classifier",
      "provenance": []
    }
  },
  "nbformat_minor": 0,
  "nbformat": 4,
  "cells": [
    {
      "source": [
        "\n",
        "import kagglehub\n",
        "organizations_uciml_sms_spam_collection_dataset_path = kagglehub.dataset_download('organizations/uciml/sms-spam-collection-dataset')\n",
        "\n",
        "print('Data source import complete.')\n"
      ],
      "metadata": {
        "id": "bGvhisxeThKS"
      },
      "cell_type": "code",
      "outputs": [],
      "execution_count": null
    },
    {
      "cell_type": "code",
      "source": [
        "\n",
        "import numpy as np\n",
        "import pandas as pd\n",
        "\n",
        "\n",
        "\n",
        "import os\n",
        "for dirname, _, filenames in os.walk('/kaggle/input'):\n",
        "    for filename in filenames:\n",
        "        print(os.path.join(dirname, filename))\n",
        "\n"
      ],
      "metadata": {
        "_uuid": "8f2839f25d086af736a60e9eeb907d3b93b6e0e5",
        "_cell_guid": "b1076dfc-b9ad-4769-8c92-a6c4dae69d19",
        "execution": {
          "iopub.status.busy": "2024-07-13T17:14:48.353724Z",
          "iopub.execute_input": "2024-07-13T17:14:48.354198Z",
          "iopub.status.idle": "2024-07-13T17:14:48.781746Z",
          "shell.execute_reply.started": "2024-07-13T17:14:48.35416Z",
          "shell.execute_reply": "2024-07-13T17:14:48.78041Z"
        },
        "trusted": true,
        "id": "snGHMOYFThKX"
      },
      "execution_count": null,
      "outputs": []
    },
    {
      "cell_type": "code",
      "source": [
        "df = pd.read_csv('/kaggle/input/sms-spam-collection-dataset/spam.csv', encoding='latin1')"
      ],
      "metadata": {
        "execution": {
          "iopub.status.busy": "2024-07-13T17:14:48.78361Z",
          "iopub.execute_input": "2024-07-13T17:14:48.784015Z",
          "iopub.status.idle": "2024-07-13T17:14:48.822133Z",
          "shell.execute_reply.started": "2024-07-13T17:14:48.783986Z",
          "shell.execute_reply": "2024-07-13T17:14:48.820997Z"
        },
        "trusted": true,
        "id": "D7f2wVe3ThKZ"
      },
      "execution_count": null,
      "outputs": []
    },
    {
      "cell_type": "code",
      "source": [
        "df.head()"
      ],
      "metadata": {
        "execution": {
          "iopub.status.busy": "2024-07-13T17:14:50.347128Z",
          "iopub.execute_input": "2024-07-13T17:14:50.347565Z",
          "iopub.status.idle": "2024-07-13T17:14:50.373131Z",
          "shell.execute_reply.started": "2024-07-13T17:14:50.347528Z",
          "shell.execute_reply": "2024-07-13T17:14:50.372095Z"
        },
        "trusted": true,
        "id": "TDxJ-DZKThKb"
      },
      "execution_count": null,
      "outputs": []
    },
    {
      "cell_type": "markdown",
      "source": [
        "## Data Cleaning"
      ],
      "metadata": {
        "id": "l5rKZM8WThKc"
      }
    },
    {
      "cell_type": "code",
      "source": [
        "df.info()"
      ],
      "metadata": {
        "execution": {
          "iopub.status.busy": "2024-07-13T17:14:50.800637Z",
          "iopub.execute_input": "2024-07-13T17:14:50.800998Z",
          "iopub.status.idle": "2024-07-13T17:14:50.830017Z",
          "shell.execute_reply.started": "2024-07-13T17:14:50.800969Z",
          "shell.execute_reply": "2024-07-13T17:14:50.828747Z"
        },
        "trusted": true,
        "id": "Mve5S4JyThKe"
      },
      "execution_count": null,
      "outputs": []
    },
    {
      "cell_type": "code",
      "source": [
        "df.drop(columns=['Unnamed: 2','Unnamed: 3','Unnamed: 4'],inplace=True)"
      ],
      "metadata": {
        "execution": {
          "iopub.status.busy": "2024-07-13T17:14:50.988436Z",
          "iopub.execute_input": "2024-07-13T17:14:50.988834Z",
          "iopub.status.idle": "2024-07-13T17:14:50.996996Z",
          "shell.execute_reply.started": "2024-07-13T17:14:50.988802Z",
          "shell.execute_reply": "2024-07-13T17:14:50.995808Z"
        },
        "trusted": true,
        "id": "wpT-by4CThKf"
      },
      "execution_count": null,
      "outputs": []
    },
    {
      "cell_type": "code",
      "source": [
        "df.sample(2)"
      ],
      "metadata": {
        "execution": {
          "iopub.status.busy": "2024-07-13T17:14:51.233733Z",
          "iopub.execute_input": "2024-07-13T17:14:51.23412Z",
          "iopub.status.idle": "2024-07-13T17:14:51.247563Z",
          "shell.execute_reply.started": "2024-07-13T17:14:51.234089Z",
          "shell.execute_reply": "2024-07-13T17:14:51.246549Z"
        },
        "trusted": true,
        "id": "M2hYv_SvThKg"
      },
      "execution_count": null,
      "outputs": []
    },
    {
      "cell_type": "code",
      "source": [
        "df.rename(columns={'v1':'result','v2':'message'},inplace=True)"
      ],
      "metadata": {
        "execution": {
          "iopub.status.busy": "2024-07-13T17:14:51.639254Z",
          "iopub.execute_input": "2024-07-13T17:14:51.639638Z",
          "iopub.status.idle": "2024-07-13T17:14:51.64558Z",
          "shell.execute_reply.started": "2024-07-13T17:14:51.639608Z",
          "shell.execute_reply": "2024-07-13T17:14:51.644224Z"
        },
        "trusted": true,
        "id": "bdRisz4wThKh"
      },
      "execution_count": null,
      "outputs": []
    },
    {
      "cell_type": "code",
      "source": [
        "df.sample(2)"
      ],
      "metadata": {
        "execution": {
          "iopub.status.busy": "2024-07-13T17:14:51.873888Z",
          "iopub.execute_input": "2024-07-13T17:14:51.874242Z",
          "iopub.status.idle": "2024-07-13T17:14:51.884858Z",
          "shell.execute_reply.started": "2024-07-13T17:14:51.874215Z",
          "shell.execute_reply": "2024-07-13T17:14:51.883629Z"
        },
        "trusted": true,
        "id": "yY9Iws2QThKi"
      },
      "execution_count": null,
      "outputs": []
    },
    {
      "cell_type": "code",
      "source": [
        "#changing the result coulm values to 0 and 1\n",
        "from sklearn.preprocessing import LabelEncoder\n",
        "encoder=LabelEncoder()"
      ],
      "metadata": {
        "execution": {
          "iopub.status.busy": "2024-07-13T17:14:52.110883Z",
          "iopub.execute_input": "2024-07-13T17:14:52.11126Z",
          "iopub.status.idle": "2024-07-13T17:14:52.599606Z",
          "shell.execute_reply.started": "2024-07-13T17:14:52.111229Z",
          "shell.execute_reply": "2024-07-13T17:14:52.59827Z"
        },
        "trusted": true,
        "id": "adquJwlAThKj"
      },
      "execution_count": null,
      "outputs": []
    },
    {
      "cell_type": "code",
      "source": [
        "df['result']=encoder.fit_transform(df['result'])"
      ],
      "metadata": {
        "execution": {
          "iopub.status.busy": "2024-07-13T17:14:52.601728Z",
          "iopub.execute_input": "2024-07-13T17:14:52.602055Z",
          "iopub.status.idle": "2024-07-13T17:14:52.60966Z",
          "shell.execute_reply.started": "2024-07-13T17:14:52.602019Z",
          "shell.execute_reply": "2024-07-13T17:14:52.608438Z"
        },
        "trusted": true,
        "id": "M-fEuCQAThKk"
      },
      "execution_count": null,
      "outputs": []
    },
    {
      "cell_type": "code",
      "source": [
        "df.head()"
      ],
      "metadata": {
        "execution": {
          "iopub.status.busy": "2024-07-13T17:14:52.610973Z",
          "iopub.execute_input": "2024-07-13T17:14:52.611393Z",
          "iopub.status.idle": "2024-07-13T17:14:52.626454Z",
          "shell.execute_reply.started": "2024-07-13T17:14:52.611357Z",
          "shell.execute_reply": "2024-07-13T17:14:52.6253Z"
        },
        "trusted": true,
        "id": "mo3yNNZ3ThKl"
      },
      "execution_count": null,
      "outputs": []
    },
    {
      "cell_type": "code",
      "source": [
        "df.isnull().sum()"
      ],
      "metadata": {
        "execution": {
          "iopub.status.busy": "2024-07-13T17:14:52.819081Z",
          "iopub.execute_input": "2024-07-13T17:14:52.819596Z",
          "iopub.status.idle": "2024-07-13T17:14:52.828928Z",
          "shell.execute_reply.started": "2024-07-13T17:14:52.819555Z",
          "shell.execute_reply": "2024-07-13T17:14:52.827676Z"
        },
        "trusted": true,
        "id": "VnVCmQNIThKm"
      },
      "execution_count": null,
      "outputs": []
    },
    {
      "cell_type": "code",
      "source": [
        "df.duplicated().sum()"
      ],
      "metadata": {
        "execution": {
          "iopub.status.busy": "2024-07-13T17:14:53.042925Z",
          "iopub.execute_input": "2024-07-13T17:14:53.043308Z",
          "iopub.status.idle": "2024-07-13T17:14:53.055994Z",
          "shell.execute_reply.started": "2024-07-13T17:14:53.043277Z",
          "shell.execute_reply": "2024-07-13T17:14:53.054696Z"
        },
        "trusted": true,
        "id": "ClqPTIgSThKm"
      },
      "execution_count": null,
      "outputs": []
    },
    {
      "cell_type": "code",
      "source": [
        "#dropping duplicates\n",
        "df=df.drop_duplicates(keep='first')"
      ],
      "metadata": {
        "execution": {
          "iopub.status.busy": "2024-07-13T17:14:53.525722Z",
          "iopub.execute_input": "2024-07-13T17:14:53.526465Z",
          "iopub.status.idle": "2024-07-13T17:14:53.536477Z",
          "shell.execute_reply.started": "2024-07-13T17:14:53.526429Z",
          "shell.execute_reply": "2024-07-13T17:14:53.535299Z"
        },
        "trusted": true,
        "id": "mGSfwylgThKn"
      },
      "execution_count": null,
      "outputs": []
    },
    {
      "cell_type": "code",
      "source": [
        "df.duplicated().sum()"
      ],
      "metadata": {
        "execution": {
          "iopub.status.busy": "2024-07-13T17:14:53.922398Z",
          "iopub.execute_input": "2024-07-13T17:14:53.922794Z",
          "iopub.status.idle": "2024-07-13T17:14:53.932881Z",
          "shell.execute_reply.started": "2024-07-13T17:14:53.922763Z",
          "shell.execute_reply": "2024-07-13T17:14:53.931808Z"
        },
        "trusted": true,
        "id": "_5a_OjVtThKn"
      },
      "execution_count": null,
      "outputs": []
    },
    {
      "cell_type": "code",
      "source": [
        "df.shape"
      ],
      "metadata": {
        "execution": {
          "iopub.status.busy": "2024-07-13T17:14:54.309097Z",
          "iopub.execute_input": "2024-07-13T17:14:54.309474Z",
          "iopub.status.idle": "2024-07-13T17:14:54.316669Z",
          "shell.execute_reply.started": "2024-07-13T17:14:54.309445Z",
          "shell.execute_reply": "2024-07-13T17:14:54.315409Z"
        },
        "trusted": true,
        "id": "y4YkRDBdThKo"
      },
      "execution_count": null,
      "outputs": []
    },
    {
      "cell_type": "markdown",
      "source": [
        "## EDA"
      ],
      "metadata": {
        "id": "PisXhdH1ThKo"
      }
    },
    {
      "cell_type": "code",
      "source": [
        "df['result'].value_counts().plot.bar()"
      ],
      "metadata": {
        "execution": {
          "iopub.status.busy": "2024-07-13T17:14:54.953861Z",
          "iopub.execute_input": "2024-07-13T17:14:54.954268Z",
          "iopub.status.idle": "2024-07-13T17:14:55.208211Z",
          "shell.execute_reply.started": "2024-07-13T17:14:54.954234Z",
          "shell.execute_reply": "2024-07-13T17:14:55.207092Z"
        },
        "trusted": true,
        "id": "E7-9ICF2ThKo"
      },
      "execution_count": null,
      "outputs": []
    },
    {
      "cell_type": "markdown",
      "source": [
        "We hame more no. of ham messgaes than spam"
      ],
      "metadata": {
        "id": "BUChtO4zThKp"
      }
    },
    {
      "cell_type": "code",
      "source": [
        "df.sample(2)"
      ],
      "metadata": {
        "execution": {
          "iopub.status.busy": "2024-07-13T17:14:55.959717Z",
          "iopub.execute_input": "2024-07-13T17:14:55.960115Z",
          "iopub.status.idle": "2024-07-13T17:14:55.971356Z",
          "shell.execute_reply.started": "2024-07-13T17:14:55.960083Z",
          "shell.execute_reply": "2024-07-13T17:14:55.970013Z"
        },
        "trusted": true,
        "id": "eaoKvb8bThKp"
      },
      "execution_count": null,
      "outputs": []
    },
    {
      "cell_type": "code",
      "source": [
        "import re"
      ],
      "metadata": {
        "execution": {
          "iopub.status.busy": "2024-07-13T17:14:56.461251Z",
          "iopub.execute_input": "2024-07-13T17:14:56.461665Z",
          "iopub.status.idle": "2024-07-13T17:14:56.467311Z",
          "shell.execute_reply.started": "2024-07-13T17:14:56.461632Z",
          "shell.execute_reply": "2024-07-13T17:14:56.465832Z"
        },
        "trusted": true,
        "id": "rXMCqsR7ThKp"
      },
      "execution_count": null,
      "outputs": []
    },
    {
      "cell_type": "code",
      "source": [
        "df['num_characters']=df['message'].apply(len)\n",
        "df['num_words']=df['message'].apply(lambda x:len(x.split(' ')))\n",
        "df['num_sentences']=df['message'].apply(lambda x:re.split(r'[.?]', x))"
      ],
      "metadata": {
        "execution": {
          "iopub.status.busy": "2024-07-13T17:14:56.879596Z",
          "iopub.execute_input": "2024-07-13T17:14:56.879986Z",
          "iopub.status.idle": "2024-07-13T17:14:56.917138Z",
          "shell.execute_reply.started": "2024-07-13T17:14:56.879944Z",
          "shell.execute_reply": "2024-07-13T17:14:56.915863Z"
        },
        "trusted": true,
        "id": "zbNq3CF2ThKq"
      },
      "execution_count": null,
      "outputs": []
    },
    {
      "cell_type": "code",
      "source": [
        "df.sample(2)"
      ],
      "metadata": {
        "execution": {
          "iopub.status.busy": "2024-07-13T17:14:57.261668Z",
          "iopub.execute_input": "2024-07-13T17:14:57.262044Z",
          "iopub.status.idle": "2024-07-13T17:14:57.275058Z",
          "shell.execute_reply.started": "2024-07-13T17:14:57.262015Z",
          "shell.execute_reply": "2024-07-13T17:14:57.274003Z"
        },
        "trusted": true,
        "id": "j4LV4NKtThKq"
      },
      "execution_count": null,
      "outputs": []
    },
    {
      "cell_type": "code",
      "source": [
        "df['message'][1]"
      ],
      "metadata": {
        "execution": {
          "iopub.status.busy": "2024-07-13T17:14:57.753659Z",
          "iopub.execute_input": "2024-07-13T17:14:57.754016Z",
          "iopub.status.idle": "2024-07-13T17:14:57.760901Z",
          "shell.execute_reply.started": "2024-07-13T17:14:57.753989Z",
          "shell.execute_reply": "2024-07-13T17:14:57.759787Z"
        },
        "trusted": true,
        "id": "E_rWC3ZmThKq"
      },
      "execution_count": null,
      "outputs": []
    },
    {
      "cell_type": "code",
      "source": [
        "df['num_sentences'][1]"
      ],
      "metadata": {
        "execution": {
          "iopub.status.busy": "2024-07-13T17:14:57.987578Z",
          "iopub.execute_input": "2024-07-13T17:14:57.987971Z",
          "iopub.status.idle": "2024-07-13T17:14:57.99534Z",
          "shell.execute_reply.started": "2024-07-13T17:14:57.98794Z",
          "shell.execute_reply": "2024-07-13T17:14:57.99426Z"
        },
        "trusted": true,
        "id": "2MnO13iAThKq"
      },
      "execution_count": null,
      "outputs": []
    },
    {
      "cell_type": "code",
      "source": [
        "len(list(filter(None, df['num_sentences'][1])))"
      ],
      "metadata": {
        "execution": {
          "iopub.status.busy": "2024-07-13T17:14:58.344583Z",
          "iopub.execute_input": "2024-07-13T17:14:58.344945Z",
          "iopub.status.idle": "2024-07-13T17:14:58.35292Z",
          "shell.execute_reply.started": "2024-07-13T17:14:58.344917Z",
          "shell.execute_reply": "2024-07-13T17:14:58.351702Z"
        },
        "trusted": true,
        "id": "gX2e8SW8ThKq"
      },
      "execution_count": null,
      "outputs": []
    },
    {
      "cell_type": "code",
      "source": [
        "df['num_sentences']=df['num_sentences'].apply(lambda x:len(list(filter(None,x))))"
      ],
      "metadata": {
        "execution": {
          "iopub.status.busy": "2024-07-13T17:14:58.570179Z",
          "iopub.execute_input": "2024-07-13T17:14:58.570586Z",
          "iopub.status.idle": "2024-07-13T17:14:58.581029Z",
          "shell.execute_reply.started": "2024-07-13T17:14:58.570553Z",
          "shell.execute_reply": "2024-07-13T17:14:58.579959Z"
        },
        "trusted": true,
        "id": "yxiTg6klThKr"
      },
      "execution_count": null,
      "outputs": []
    },
    {
      "cell_type": "code",
      "source": [
        "df.head()"
      ],
      "metadata": {
        "execution": {
          "iopub.status.busy": "2024-07-13T17:14:58.796923Z",
          "iopub.execute_input": "2024-07-13T17:14:58.797316Z",
          "iopub.status.idle": "2024-07-13T17:14:58.808981Z",
          "shell.execute_reply.started": "2024-07-13T17:14:58.797287Z",
          "shell.execute_reply": "2024-07-13T17:14:58.807925Z"
        },
        "trusted": true,
        "id": "NtMBudcEThKr"
      },
      "execution_count": null,
      "outputs": []
    },
    {
      "cell_type": "code",
      "source": [
        "import seaborn as sns"
      ],
      "metadata": {
        "execution": {
          "iopub.status.busy": "2024-07-13T17:14:59.02051Z",
          "iopub.execute_input": "2024-07-13T17:14:59.0209Z",
          "iopub.status.idle": "2024-07-13T17:14:59.29693Z",
          "shell.execute_reply.started": "2024-07-13T17:14:59.020867Z",
          "shell.execute_reply": "2024-07-13T17:14:59.295825Z"
        },
        "trusted": true,
        "id": "zRCEA9ezThKr"
      },
      "execution_count": null,
      "outputs": []
    },
    {
      "cell_type": "code",
      "source": [
        "#plot on basis on number of characters\n",
        "sns.histplot(df[df['result']==0]['num_characters'],color='green')\n",
        "sns.histplot(df[df['result']==1]['num_characters'],color='red')"
      ],
      "metadata": {
        "execution": {
          "iopub.status.busy": "2024-07-13T17:14:59.298789Z",
          "iopub.execute_input": "2024-07-13T17:14:59.299182Z",
          "iopub.status.idle": "2024-07-13T17:14:59.839532Z",
          "shell.execute_reply.started": "2024-07-13T17:14:59.299151Z",
          "shell.execute_reply": "2024-07-13T17:14:59.838456Z"
        },
        "trusted": true,
        "id": "h1N5G8T_ThKs"
      },
      "execution_count": null,
      "outputs": []
    },
    {
      "cell_type": "code",
      "source": [
        "#plot on basis on number of words\n",
        "sns.histplot(df[df['result']==0]['num_words'],color='green')\n",
        "sns.histplot(df[df['result']==1]['num_words'],color='red')"
      ],
      "metadata": {
        "execution": {
          "iopub.status.busy": "2024-07-13T17:14:59.841607Z",
          "iopub.execute_input": "2024-07-13T17:14:59.842033Z",
          "iopub.status.idle": "2024-07-13T17:15:00.330689Z",
          "shell.execute_reply.started": "2024-07-13T17:14:59.841995Z",
          "shell.execute_reply": "2024-07-13T17:15:00.329324Z"
        },
        "trusted": true,
        "id": "B0BI7xq5ThKt"
      },
      "execution_count": null,
      "outputs": []
    },
    {
      "cell_type": "code",
      "source": [
        "#plot on basis on number of sentences\n",
        "sns.histplot(df[df['result']==0]['num_sentences'],color='green')\n",
        "sns.histplot(df[df['result']==1]['num_sentences'],color='red')"
      ],
      "metadata": {
        "execution": {
          "iopub.status.busy": "2024-07-13T17:15:00.332439Z",
          "iopub.execute_input": "2024-07-13T17:15:00.332792Z",
          "iopub.status.idle": "2024-07-13T17:15:00.897542Z",
          "shell.execute_reply.started": "2024-07-13T17:15:00.332762Z",
          "shell.execute_reply": "2024-07-13T17:15:00.896384Z"
        },
        "trusted": true,
        "id": "9ltcM4GgThKt"
      },
      "execution_count": null,
      "outputs": []
    },
    {
      "cell_type": "code",
      "source": [
        "df_excluded = df.drop(columns=['message'])"
      ],
      "metadata": {
        "execution": {
          "iopub.status.busy": "2024-07-13T17:15:00.899804Z",
          "iopub.execute_input": "2024-07-13T17:15:00.90077Z",
          "iopub.status.idle": "2024-07-13T17:15:00.909341Z",
          "shell.execute_reply.started": "2024-07-13T17:15:00.900725Z",
          "shell.execute_reply": "2024-07-13T17:15:00.907922Z"
        },
        "trusted": true,
        "id": "szzvXv2jThKt"
      },
      "execution_count": null,
      "outputs": []
    },
    {
      "cell_type": "code",
      "source": [
        "sns.heatmap(df_excluded.corr(),annot=True)"
      ],
      "metadata": {
        "execution": {
          "iopub.status.busy": "2024-07-13T17:15:01.91312Z",
          "iopub.execute_input": "2024-07-13T17:15:01.913558Z",
          "iopub.status.idle": "2024-07-13T17:15:02.284355Z",
          "shell.execute_reply.started": "2024-07-13T17:15:01.913514Z",
          "shell.execute_reply": "2024-07-13T17:15:02.282742Z"
        },
        "trusted": true,
        "id": "zC6o1wPNThKu"
      },
      "execution_count": null,
      "outputs": []
    },
    {
      "cell_type": "markdown",
      "source": [
        "Increase in no. of characters -> means ham"
      ],
      "metadata": {
        "id": "WrCZdTJrThKu"
      }
    },
    {
      "cell_type": "markdown",
      "source": [
        "## Model Building"
      ],
      "metadata": {
        "id": "iJmiC5d_ThKu"
      }
    },
    {
      "cell_type": "code",
      "source": [
        "from sklearn.feature_extraction.text import TfidfVectorizer\n",
        "tfid=TfidfVectorizer(max_features=2500)"
      ],
      "metadata": {
        "execution": {
          "iopub.status.busy": "2024-07-13T17:29:43.639482Z",
          "iopub.execute_input": "2024-07-13T17:29:43.640427Z",
          "iopub.status.idle": "2024-07-13T17:29:43.64757Z",
          "shell.execute_reply.started": "2024-07-13T17:29:43.640379Z",
          "shell.execute_reply": "2024-07-13T17:29:43.646332Z"
        },
        "trusted": true,
        "id": "FVL1nX_XThKu"
      },
      "execution_count": null,
      "outputs": []
    },
    {
      "cell_type": "code",
      "source": [
        "X=tfid.fit_transform(df['message']).toarray()"
      ],
      "metadata": {
        "execution": {
          "iopub.status.busy": "2024-07-13T17:29:43.649699Z",
          "iopub.execute_input": "2024-07-13T17:29:43.650644Z",
          "iopub.status.idle": "2024-07-13T17:29:43.806655Z",
          "shell.execute_reply.started": "2024-07-13T17:29:43.650594Z",
          "shell.execute_reply": "2024-07-13T17:29:43.805319Z"
        },
        "trusted": true,
        "id": "NSdGRKjkThK5"
      },
      "execution_count": null,
      "outputs": []
    },
    {
      "cell_type": "code",
      "source": [
        "y=df['result'].values"
      ],
      "metadata": {
        "execution": {
          "iopub.status.busy": "2024-07-13T17:29:43.808121Z",
          "iopub.execute_input": "2024-07-13T17:29:43.808456Z",
          "iopub.status.idle": "2024-07-13T17:29:43.81337Z",
          "shell.execute_reply.started": "2024-07-13T17:29:43.808426Z",
          "shell.execute_reply": "2024-07-13T17:29:43.812094Z"
        },
        "trusted": true,
        "id": "44NlooPxThK5"
      },
      "execution_count": null,
      "outputs": []
    },
    {
      "cell_type": "code",
      "source": [
        "from sklearn.model_selection import train_test_split"
      ],
      "metadata": {
        "execution": {
          "iopub.status.busy": "2024-07-13T17:29:43.815233Z",
          "iopub.execute_input": "2024-07-13T17:29:43.815631Z",
          "iopub.status.idle": "2024-07-13T17:29:43.826248Z",
          "shell.execute_reply.started": "2024-07-13T17:29:43.81559Z",
          "shell.execute_reply": "2024-07-13T17:29:43.824699Z"
        },
        "trusted": true,
        "id": "vLWEuTvNThK6"
      },
      "execution_count": null,
      "outputs": []
    },
    {
      "cell_type": "code",
      "source": [
        "X_train,X_test,y_train,y_test=train_test_split(X,y,test_size=0.2)"
      ],
      "metadata": {
        "execution": {
          "iopub.status.busy": "2024-07-13T17:29:43.82773Z",
          "iopub.execute_input": "2024-07-13T17:29:43.828157Z",
          "iopub.status.idle": "2024-07-13T17:29:43.870465Z",
          "shell.execute_reply.started": "2024-07-13T17:29:43.828118Z",
          "shell.execute_reply": "2024-07-13T17:29:43.869205Z"
        },
        "trusted": true,
        "id": "dNLvG7ZGThK6"
      },
      "execution_count": null,
      "outputs": []
    },
    {
      "cell_type": "code",
      "source": [
        "from sklearn.naive_bayes import GaussianNB, MultinomialNB, BernoulliNB\n",
        "from sklearn.metrics import accuracy_score,confusion_matrix,precision_score\n",
        "from mlxtend.plotting import plot_confusion_matrix\n",
        "from sklearn.svm import SVC\n",
        "from sklearn.linear_model import LogisticRegression\n",
        "from sklearn.ensemble import RandomForestClassifier, GradientBoostingClassifier\n",
        "from sklearn.tree import DecisionTreeClassifier\n",
        "from xgboost import XGBClassifier\n",
        "import matplotlib.pyplot as plt"
      ],
      "metadata": {
        "execution": {
          "iopub.status.busy": "2024-07-13T17:29:43.871722Z",
          "iopub.execute_input": "2024-07-13T17:29:43.872027Z",
          "iopub.status.idle": "2024-07-13T17:29:43.878622Z",
          "shell.execute_reply.started": "2024-07-13T17:29:43.872Z",
          "shell.execute_reply": "2024-07-13T17:29:43.877329Z"
        },
        "trusted": true,
        "id": "cILprinPThK6"
      },
      "execution_count": null,
      "outputs": []
    },
    {
      "cell_type": "code",
      "source": [
        "models = [[GaussianNB(), \"Gaussian Naive Bayes\"],\n",
        "          [MultinomialNB(), \"Multinomial Naive Bayes\"],\n",
        "          [BernoulliNB(), \"Bernoulli Naive Bayes\"],\n",
        "          [SVC(kernel='sigmoid',gamma=1.0), \"Support Vector\"],\n",
        "          [LogisticRegression(solver='liblinear',penalty='l1'), \"Logistic regression\"],\n",
        "          [RandomForestClassifier(n_estimators = 50,random_state=2), \"Random Forest\"],\n",
        "          [DecisionTreeClassifier(max_depth = 5), \"Decision Trees\"],\n",
        "          [XGBClassifier(n_estimators=50, random_state=2), \"XGBClassifier\"],\n",
        "          [GradientBoostingClassifier(n_estimators=50, random_state=2),\"GradientBoostingClassifier\"]]\n",
        "\n",
        "for i in models:\n",
        "    name = i[1]\n",
        "    model = i[0]\n",
        "    model.fit(X_train, y_train)\n",
        "    y_pred1 = model.predict(X_test)\n",
        "    accuracy = accuracy_score(y_test, y_pred1)\n",
        "    precision = precision_score(y_test, y_pred1)\n",
        "\n",
        "    print(f'Model ==> {name}')\n",
        "    print(f'Accuracy ==> {accuracy:.2f}')\n",
        "    print(f'Precision ==> {precision:.2f}')\n",
        "    cnf = confusion_matrix(y_test,y_pred1)\n",
        "    fig, ax = plot_confusion_matrix(conf_mat = cnf)\n",
        "    plt.show()\n",
        "    print(\"\\n\")"
      ],
      "metadata": {
        "execution": {
          "iopub.status.busy": "2024-07-13T17:29:04.000735Z",
          "iopub.execute_input": "2024-07-13T17:29:04.001085Z",
          "iopub.status.idle": "2024-07-13T17:29:43.635419Z",
          "shell.execute_reply.started": "2024-07-13T17:29:04.001055Z",
          "shell.execute_reply": "2024-07-13T17:29:43.634194Z"
        },
        "trusted": true,
        "id": "V-ZsJKOaThK7"
      },
      "execution_count": null,
      "outputs": []
    },
    {
      "cell_type": "markdown",
      "source": [
        "## Using Multinomial Naive Bayes as Precision score is 1\n",
        "### It is a specialized version of Naive Bayes that is designed more for text documents."
      ],
      "metadata": {
        "id": "Kb7bEQyaThK7"
      }
    },
    {
      "cell_type": "code",
      "source": [
        "mnb=MultinomialNB()\n",
        "mnb.fit(X_train, y_train)\n",
        "y_pred = mnb.predict(X_test)\n",
        "print(accuracy_score(y_test, y_pred))\n",
        "print(precision_score(y_test, y_pred))"
      ],
      "metadata": {
        "execution": {
          "iopub.status.busy": "2024-07-13T17:36:53.56064Z",
          "iopub.execute_input": "2024-07-13T17:36:53.561047Z",
          "iopub.status.idle": "2024-07-13T17:36:53.606254Z",
          "shell.execute_reply.started": "2024-07-13T17:36:53.561014Z",
          "shell.execute_reply": "2024-07-13T17:36:53.605054Z"
        },
        "trusted": true,
        "id": "te6HwrKfThK8"
      },
      "execution_count": null,
      "outputs": []
    },
    {
      "cell_type": "code",
      "source": [
        "import pickle\n",
        "pickle.dump(tfid,open('vector.pkl','wb'))\n",
        "pickle.dump(mnb,open('model.pkl','wb'))"
      ],
      "metadata": {
        "execution": {
          "iopub.status.busy": "2024-07-13T17:37:27.63911Z",
          "iopub.execute_input": "2024-07-13T17:37:27.639484Z",
          "iopub.status.idle": "2024-07-13T17:37:27.656561Z",
          "shell.execute_reply.started": "2024-07-13T17:37:27.639457Z",
          "shell.execute_reply": "2024-07-13T17:37:27.655223Z"
        },
        "trusted": true,
        "id": "0sBwjv60ThK8"
      },
      "execution_count": null,
      "outputs": []
    },
    {
      "cell_type": "code",
      "source": [],
      "metadata": {
        "id": "66y7kpptThK8"
      },
      "execution_count": null,
      "outputs": []
    }
  ]
}