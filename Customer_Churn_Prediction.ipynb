{
  "metadata": {
    "kernelspec": {
      "language": "python",
      "display_name": "Python 3",
      "name": "python3"
    },
    "language_info": {
      "name": "python",
      "version": "3.10.14",
      "mimetype": "text/x-python",
      "codemirror_mode": {
        "name": "ipython",
        "version": 3
      },
      "pygments_lexer": "ipython3",
      "nbconvert_exporter": "python",
      "file_extension": ".py"
    },
    "kaggle": {
      "accelerator": "none",
      "dataSources": [
        {
          "sourceId": 3322096,
          "sourceType": "datasetVersion",
          "datasetId": 2008274
        }
      ],
      "dockerImageVersionId": 30786,
      "isInternetEnabled": false,
      "language": "python",
      "sourceType": "notebook",
      "isGpuEnabled": false
    },
    "colab": {
      "name": "LogisticRegression_RandomForestClassifier_ML",
      "provenance": []
    }
  },
  "nbformat_minor": 0,
  "nbformat": 4,
  "cells": [
    {
      "source": [
        "\n",
        "import kagglehub\n",
        "shantanudhakadd_bank_customer_churn_prediction_path = kagglehub.dataset_download('shantanudhakadd/bank-customer-churn-prediction')\n",
        "\n",
        "print('Data source import complete.')\n"
      ],
      "metadata": {
        "id": "5WqNAhxJShc9"
      },
      "cell_type": "code",
      "outputs": [],
      "execution_count": null
    },
    {
      "cell_type": "code",
      "source": [
        "import pandas as pd\n",
        "import numpy as np\n",
        "import matplotlib.pyplot as plt"
      ],
      "metadata": {
        "trusted": true,
        "execution": {
          "iopub.status.busy": "2024-11-29T21:05:35.783888Z",
          "iopub.execute_input": "2024-11-29T21:05:35.784351Z",
          "iopub.status.idle": "2024-11-29T21:05:35.790222Z",
          "shell.execute_reply.started": "2024-11-29T21:05:35.784315Z",
          "shell.execute_reply": "2024-11-29T21:05:35.788814Z"
        },
        "id": "v4_u9tbmShc_"
      },
      "outputs": [],
      "execution_count": null
    },
    {
      "cell_type": "code",
      "source": [
        "df = pd.read_csv('/kaggle/input/bank-customer-churn-prediction/Churn_Modelling.csv')"
      ],
      "metadata": {
        "trusted": true,
        "execution": {
          "iopub.status.busy": "2024-11-29T21:05:35.792406Z",
          "iopub.execute_input": "2024-11-29T21:05:35.79286Z",
          "iopub.status.idle": "2024-11-29T21:05:35.836263Z",
          "shell.execute_reply.started": "2024-11-29T21:05:35.792807Z",
          "shell.execute_reply": "2024-11-29T21:05:35.83495Z"
        },
        "id": "8TmJHsB2Shc_"
      },
      "outputs": [],
      "execution_count": null
    },
    {
      "cell_type": "code",
      "source": [
        "df.head(5)"
      ],
      "metadata": {
        "trusted": true,
        "execution": {
          "iopub.status.busy": "2024-11-29T21:05:35.83819Z",
          "iopub.execute_input": "2024-11-29T21:05:35.838485Z",
          "iopub.status.idle": "2024-11-29T21:05:35.854918Z",
          "shell.execute_reply.started": "2024-11-29T21:05:35.838454Z",
          "shell.execute_reply": "2024-11-29T21:05:35.853778Z"
        },
        "id": "qnpsTwbMShdA"
      },
      "outputs": [],
      "execution_count": null
    },
    {
      "cell_type": "code",
      "source": [
        "df.info()"
      ],
      "metadata": {
        "trusted": true,
        "execution": {
          "iopub.status.busy": "2024-11-29T21:05:35.856687Z",
          "iopub.execute_input": "2024-11-29T21:05:35.857224Z",
          "iopub.status.idle": "2024-11-29T21:05:35.878075Z",
          "shell.execute_reply.started": "2024-11-29T21:05:35.857168Z",
          "shell.execute_reply": "2024-11-29T21:05:35.876745Z"
        },
        "id": "Ibonest5ShdB"
      },
      "outputs": [],
      "execution_count": null
    },
    {
      "cell_type": "code",
      "source": [
        "df.isnull().sum()"
      ],
      "metadata": {
        "trusted": true,
        "execution": {
          "iopub.status.busy": "2024-11-29T21:05:35.881739Z",
          "iopub.execute_input": "2024-11-29T21:05:35.882159Z",
          "iopub.status.idle": "2024-11-29T21:05:35.8959Z",
          "shell.execute_reply.started": "2024-11-29T21:05:35.882123Z",
          "shell.execute_reply": "2024-11-29T21:05:35.894463Z"
        },
        "id": "X9KBrk7JShdB"
      },
      "outputs": [],
      "execution_count": null
    },
    {
      "cell_type": "code",
      "source": [
        "Balance_mean_withZeros = df.Balance.mean()\n",
        "Balance_mean_withZeros"
      ],
      "metadata": {
        "trusted": true,
        "execution": {
          "iopub.status.busy": "2024-11-29T21:05:35.897484Z",
          "iopub.execute_input": "2024-11-29T21:05:35.897863Z",
          "iopub.status.idle": "2024-11-29T21:05:35.90643Z",
          "shell.execute_reply.started": "2024-11-29T21:05:35.897829Z",
          "shell.execute_reply": "2024-11-29T21:05:35.905153Z"
        },
        "id": "oemWhqUAShdC"
      },
      "outputs": [],
      "execution_count": null
    },
    {
      "cell_type": "code",
      "source": [
        "Balace_withoutZeros = [x for x in df.Balance if x != 0]\n",
        "np.mean(Balace_withoutZeros)"
      ],
      "metadata": {
        "trusted": true,
        "execution": {
          "iopub.status.busy": "2024-11-29T21:05:35.908567Z",
          "iopub.execute_input": "2024-11-29T21:05:35.909228Z",
          "iopub.status.idle": "2024-11-29T21:05:35.927119Z",
          "shell.execute_reply.started": "2024-11-29T21:05:35.909178Z",
          "shell.execute_reply": "2024-11-29T21:05:35.925593Z"
        },
        "id": "r8P89u5VShdD"
      },
      "outputs": [],
      "execution_count": null
    },
    {
      "cell_type": "code",
      "source": [
        "df_mean = df['Balance'].apply(lambda x: 76485.9 if x == 0 else x)\n",
        "df_mean.mean()"
      ],
      "metadata": {
        "trusted": true,
        "execution": {
          "iopub.status.busy": "2024-11-29T21:05:35.928611Z",
          "iopub.execute_input": "2024-11-29T21:05:35.929086Z",
          "iopub.status.idle": "2024-11-29T21:05:35.947286Z",
          "shell.execute_reply.started": "2024-11-29T21:05:35.929046Z",
          "shell.execute_reply": "2024-11-29T21:05:35.946158Z"
        },
        "id": "zWoHWL0jShdE"
      },
      "outputs": [],
      "execution_count": null
    },
    {
      "cell_type": "code",
      "source": [
        "df.describe()"
      ],
      "metadata": {
        "trusted": true,
        "execution": {
          "iopub.status.busy": "2024-11-29T21:05:35.948614Z",
          "iopub.execute_input": "2024-11-29T21:05:35.94898Z",
          "iopub.status.idle": "2024-11-29T21:05:35.997355Z",
          "shell.execute_reply.started": "2024-11-29T21:05:35.948947Z",
          "shell.execute_reply": "2024-11-29T21:05:35.996127Z"
        },
        "id": "hT7OmDccShdF"
      },
      "outputs": [],
      "execution_count": null
    },
    {
      "cell_type": "code",
      "source": [
        "df.columns"
      ],
      "metadata": {
        "trusted": true,
        "execution": {
          "iopub.status.busy": "2024-11-29T21:05:35.998612Z",
          "iopub.execute_input": "2024-11-29T21:05:35.998949Z",
          "iopub.status.idle": "2024-11-29T21:05:36.006285Z",
          "shell.execute_reply.started": "2024-11-29T21:05:35.998919Z",
          "shell.execute_reply": "2024-11-29T21:05:36.005077Z"
        },
        "id": "k9ebL56AShdF"
      },
      "outputs": [],
      "execution_count": null
    },
    {
      "cell_type": "code",
      "source": [
        "df.drop(columns= ['RowNumber', 'CustomerId', 'Surname'], errors='ignore',inplace= True)\n",
        "df.columns"
      ],
      "metadata": {
        "trusted": true,
        "execution": {
          "iopub.status.busy": "2024-11-29T21:05:36.011917Z",
          "iopub.execute_input": "2024-11-29T21:05:36.012325Z",
          "iopub.status.idle": "2024-11-29T21:05:36.026983Z",
          "shell.execute_reply.started": "2024-11-29T21:05:36.01229Z",
          "shell.execute_reply": "2024-11-29T21:05:36.025684Z"
        },
        "id": "JPDmXxU-ShdF"
      },
      "outputs": [],
      "execution_count": null
    },
    {
      "cell_type": "code",
      "source": [
        "df['Geography'].unique()"
      ],
      "metadata": {
        "trusted": true,
        "execution": {
          "iopub.status.busy": "2024-11-29T21:05:36.028835Z",
          "iopub.execute_input": "2024-11-29T21:05:36.029255Z",
          "iopub.status.idle": "2024-11-29T21:05:36.039217Z",
          "shell.execute_reply.started": "2024-11-29T21:05:36.02922Z",
          "shell.execute_reply": "2024-11-29T21:05:36.038026Z"
        },
        "id": "6FJG0O7YShdF"
      },
      "outputs": [],
      "execution_count": null
    },
    {
      "cell_type": "code",
      "source": [
        "geo_group = df.groupby(\"Geography\")[\"Balance\"].sum() / 1_000_000\n",
        "\n",
        "geo_group = geo_group.rename(\"Total Balance (in millions)\")\n",
        "print(geo_group)\n",
        "\n",
        "plt.figure(figsize=(8, 5))\n",
        "geo_group.plot(kind=\"bar\", color=\"lightgreen\", edgecolor=\"black\")\n",
        "plt.title(\"Total Balance by Geography (in millions)\")\n",
        "plt.ylabel(\"Total Balance (in millions)\")\n",
        "plt.xlabel(\"Geography\")\n",
        "plt.xticks(rotation=0)\n",
        "plt.show()"
      ],
      "metadata": {
        "trusted": true,
        "execution": {
          "iopub.status.busy": "2024-11-29T21:05:36.040594Z",
          "iopub.execute_input": "2024-11-29T21:05:36.04094Z",
          "iopub.status.idle": "2024-11-29T21:05:36.432721Z",
          "shell.execute_reply.started": "2024-11-29T21:05:36.040908Z",
          "shell.execute_reply": "2024-11-29T21:05:36.431394Z"
        },
        "id": "3wXMOtJ-ShdG"
      },
      "outputs": [],
      "execution_count": null
    },
    {
      "cell_type": "code",
      "source": [
        "from sklearn.preprocessing import LabelEncoder\n",
        "from sklearn.model_selection import train_test_split\n",
        "from sklearn.linear_model import LogisticRegression\n",
        "from sklearn.ensemble import RandomForestClassifier\n",
        "from sklearn.metrics import accuracy_score, classification_report, confusion_matrix, roc_curve\n",
        "from sklearn.preprocessing import StandardScaler"
      ],
      "metadata": {
        "trusted": true,
        "execution": {
          "iopub.status.busy": "2024-11-29T21:05:36.43462Z",
          "iopub.execute_input": "2024-11-29T21:05:36.435213Z",
          "iopub.status.idle": "2024-11-29T21:05:36.442737Z",
          "shell.execute_reply.started": "2024-11-29T21:05:36.435133Z",
          "shell.execute_reply": "2024-11-29T21:05:36.44115Z"
        },
        "id": "88O3O1PIShdG"
      },
      "outputs": [],
      "execution_count": null
    },
    {
      "cell_type": "code",
      "source": [
        "label_encoder = LabelEncoder()\n",
        "df['Geography'] = label_encoder.fit_transform(df['Geography'])"
      ],
      "metadata": {
        "trusted": true,
        "execution": {
          "iopub.status.busy": "2024-11-29T21:05:36.444307Z",
          "iopub.execute_input": "2024-11-29T21:05:36.444639Z",
          "iopub.status.idle": "2024-11-29T21:05:36.465134Z",
          "shell.execute_reply.started": "2024-11-29T21:05:36.444596Z",
          "shell.execute_reply": "2024-11-29T21:05:36.46382Z"
        },
        "id": "NaRPj5BQShdG"
      },
      "outputs": [],
      "execution_count": null
    },
    {
      "cell_type": "code",
      "source": [
        "df['Geography']"
      ],
      "metadata": {
        "trusted": true,
        "execution": {
          "iopub.status.busy": "2024-11-29T21:05:36.466353Z",
          "iopub.execute_input": "2024-11-29T21:05:36.46673Z",
          "iopub.status.idle": "2024-11-29T21:05:36.481045Z",
          "shell.execute_reply.started": "2024-11-29T21:05:36.466673Z",
          "shell.execute_reply": "2024-11-29T21:05:36.479731Z"
        },
        "id": "MfMezL_2ShdG"
      },
      "outputs": [],
      "execution_count": null
    },
    {
      "cell_type": "code",
      "source": [
        "df['Gender'] = label_encoder.fit_transform(df['Gender'])"
      ],
      "metadata": {
        "trusted": true,
        "execution": {
          "iopub.status.busy": "2024-11-29T21:05:36.4824Z",
          "iopub.execute_input": "2024-11-29T21:05:36.482739Z",
          "iopub.status.idle": "2024-11-29T21:05:36.496561Z",
          "shell.execute_reply.started": "2024-11-29T21:05:36.482675Z",
          "shell.execute_reply": "2024-11-29T21:05:36.495132Z"
        },
        "id": "YpDANrUfShdG"
      },
      "outputs": [],
      "execution_count": null
    },
    {
      "cell_type": "code",
      "source": [
        "df['Gender']"
      ],
      "metadata": {
        "trusted": true,
        "execution": {
          "iopub.status.busy": "2024-11-29T21:05:36.498474Z",
          "iopub.execute_input": "2024-11-29T21:05:36.499948Z",
          "iopub.status.idle": "2024-11-29T21:05:36.514137Z",
          "shell.execute_reply.started": "2024-11-29T21:05:36.499894Z",
          "shell.execute_reply": "2024-11-29T21:05:36.512732Z"
        },
        "id": "0ng7qBn7ShdH"
      },
      "outputs": [],
      "execution_count": null
    },
    {
      "cell_type": "code",
      "source": [
        "df.dtypes #all data is numric data"
      ],
      "metadata": {
        "trusted": true,
        "execution": {
          "iopub.status.busy": "2024-11-29T21:05:36.515479Z",
          "iopub.execute_input": "2024-11-29T21:05:36.51617Z",
          "iopub.status.idle": "2024-11-29T21:05:36.532424Z",
          "shell.execute_reply.started": "2024-11-29T21:05:36.51613Z",
          "shell.execute_reply": "2024-11-29T21:05:36.531029Z"
        },
        "id": "88bWLAM-ShdH"
      },
      "outputs": [],
      "execution_count": null
    },
    {
      "cell_type": "code",
      "source": [
        "correlation_matrix = df.corr()\n",
        "correlation_matrix"
      ],
      "metadata": {
        "trusted": true,
        "execution": {
          "iopub.status.busy": "2024-11-29T21:05:36.534326Z",
          "iopub.execute_input": "2024-11-29T21:05:36.534802Z",
          "iopub.status.idle": "2024-11-29T21:05:36.568646Z",
          "shell.execute_reply.started": "2024-11-29T21:05:36.534762Z",
          "shell.execute_reply": "2024-11-29T21:05:36.567268Z"
        },
        "id": "lce2yFvcShdH"
      },
      "outputs": [],
      "execution_count": null
    },
    {
      "cell_type": "code",
      "source": [
        "target_corr = correlation_matrix[\"Exited\"].sort_values(ascending=False)\n",
        "print(\"\\nCorrelation with target variable (Exited):\")\n",
        "target_corr"
      ],
      "metadata": {
        "trusted": true,
        "execution": {
          "iopub.status.busy": "2024-11-29T21:05:36.570068Z",
          "iopub.execute_input": "2024-11-29T21:05:36.570369Z",
          "iopub.status.idle": "2024-11-29T21:05:36.582222Z",
          "shell.execute_reply.started": "2024-11-29T21:05:36.570339Z",
          "shell.execute_reply": "2024-11-29T21:05:36.580777Z"
        },
        "id": "w_sruOwAShdH"
      },
      "outputs": [],
      "execution_count": null
    },
    {
      "cell_type": "code",
      "source": [
        "x = df.drop(columns= ['Exited'])\n",
        "y = df['Exited']"
      ],
      "metadata": {
        "trusted": true,
        "execution": {
          "iopub.status.busy": "2024-11-29T21:05:36.58366Z",
          "iopub.execute_input": "2024-11-29T21:05:36.584032Z",
          "iopub.status.idle": "2024-11-29T21:05:36.595411Z",
          "shell.execute_reply.started": "2024-11-29T21:05:36.583999Z",
          "shell.execute_reply": "2024-11-29T21:05:36.594343Z"
        },
        "id": "7hNY_rE5ShdH"
      },
      "outputs": [],
      "execution_count": null
    },
    {
      "cell_type": "code",
      "source": [
        "print('x_shape : ', x.shape,'\\n',20*'-','\\n', 'y_shape : ', y.shape)"
      ],
      "metadata": {
        "trusted": true,
        "execution": {
          "iopub.status.busy": "2024-11-29T21:05:36.596767Z",
          "iopub.execute_input": "2024-11-29T21:05:36.597175Z",
          "iopub.status.idle": "2024-11-29T21:05:36.608016Z",
          "shell.execute_reply.started": "2024-11-29T21:05:36.597132Z",
          "shell.execute_reply": "2024-11-29T21:05:36.606454Z"
        },
        "id": "Yodp2JF9ShdH"
      },
      "outputs": [],
      "execution_count": null
    },
    {
      "cell_type": "code",
      "source": [
        "x_train,x_test,y_train,y_test=train_test_split(x, y, test_size=0.2, shuffle=True, random_state=42)"
      ],
      "metadata": {
        "trusted": true,
        "execution": {
          "iopub.status.busy": "2024-11-29T21:05:36.609414Z",
          "iopub.execute_input": "2024-11-29T21:05:36.609809Z",
          "iopub.status.idle": "2024-11-29T21:05:36.62428Z",
          "shell.execute_reply.started": "2024-11-29T21:05:36.609772Z",
          "shell.execute_reply": "2024-11-29T21:05:36.623082Z"
        },
        "id": "UA_WPOMBShdH"
      },
      "outputs": [],
      "execution_count": null
    },
    {
      "cell_type": "code",
      "source": [
        "x_train.shape"
      ],
      "metadata": {
        "trusted": true,
        "execution": {
          "iopub.status.busy": "2024-11-29T21:05:36.625542Z",
          "iopub.execute_input": "2024-11-29T21:05:36.625882Z",
          "iopub.status.idle": "2024-11-29T21:05:36.638302Z",
          "shell.execute_reply.started": "2024-11-29T21:05:36.625851Z",
          "shell.execute_reply": "2024-11-29T21:05:36.636875Z"
        },
        "id": "yzpgIKzqShdH"
      },
      "outputs": [],
      "execution_count": null
    },
    {
      "cell_type": "code",
      "source": [
        "y_train.shape"
      ],
      "metadata": {
        "trusted": true,
        "execution": {
          "iopub.status.busy": "2024-11-29T21:05:36.643296Z",
          "iopub.execute_input": "2024-11-29T21:05:36.643762Z",
          "iopub.status.idle": "2024-11-29T21:05:36.65229Z",
          "shell.execute_reply.started": "2024-11-29T21:05:36.643685Z",
          "shell.execute_reply": "2024-11-29T21:05:36.651032Z"
        },
        "id": "aoYj85SBShdI"
      },
      "outputs": [],
      "execution_count": null
    },
    {
      "cell_type": "code",
      "source": [
        "x_test.shape"
      ],
      "metadata": {
        "trusted": true,
        "execution": {
          "iopub.status.busy": "2024-11-29T21:05:36.654514Z",
          "iopub.execute_input": "2024-11-29T21:05:36.654987Z",
          "iopub.status.idle": "2024-11-29T21:05:36.6666Z",
          "shell.execute_reply.started": "2024-11-29T21:05:36.65494Z",
          "shell.execute_reply": "2024-11-29T21:05:36.665134Z"
        },
        "id": "UhW1z1lNShdI"
      },
      "outputs": [],
      "execution_count": null
    },
    {
      "cell_type": "code",
      "source": [
        "y_test.shape"
      ],
      "metadata": {
        "trusted": true,
        "execution": {
          "iopub.status.busy": "2024-11-29T21:05:36.668279Z",
          "iopub.execute_input": "2024-11-29T21:05:36.668734Z",
          "iopub.status.idle": "2024-11-29T21:05:36.679947Z",
          "shell.execute_reply.started": "2024-11-29T21:05:36.668667Z",
          "shell.execute_reply": "2024-11-29T21:05:36.678582Z"
        },
        "id": "efZ45wsoShdI"
      },
      "outputs": [],
      "execution_count": null
    },
    {
      "cell_type": "code",
      "source": [
        "model_RFC = RandomForestClassifier()\n",
        "model_RFC.fit(x_train, y_train)"
      ],
      "metadata": {
        "trusted": true,
        "execution": {
          "iopub.status.busy": "2024-11-29T21:05:36.681342Z",
          "iopub.execute_input": "2024-11-29T21:05:36.681846Z",
          "iopub.status.idle": "2024-11-29T21:05:37.928254Z",
          "shell.execute_reply.started": "2024-11-29T21:05:36.681812Z",
          "shell.execute_reply": "2024-11-29T21:05:37.927113Z"
        },
        "id": "MV5_XC_qShdI"
      },
      "outputs": [],
      "execution_count": null
    },
    {
      "cell_type": "code",
      "source": [
        "Accuracy_RFC = model_RFC.score(x_test, y_test)\n",
        "print('Accuracy : ', Accuracy_RFC*100)"
      ],
      "metadata": {
        "trusted": true,
        "execution": {
          "iopub.status.busy": "2024-11-29T21:05:37.929634Z",
          "iopub.execute_input": "2024-11-29T21:05:37.930023Z",
          "iopub.status.idle": "2024-11-29T21:05:37.987041Z",
          "shell.execute_reply.started": "2024-11-29T21:05:37.929989Z",
          "shell.execute_reply": "2024-11-29T21:05:37.985351Z"
        },
        "id": "QDeXcCmVShdI"
      },
      "outputs": [],
      "execution_count": null
    },
    {
      "cell_type": "code",
      "source": [
        "model_RFC.score(x_train, y_train)"
      ],
      "metadata": {
        "trusted": true,
        "execution": {
          "iopub.status.busy": "2024-11-29T21:05:37.988653Z",
          "iopub.execute_input": "2024-11-29T21:05:37.989098Z",
          "iopub.status.idle": "2024-11-29T21:05:38.158546Z",
          "shell.execute_reply.started": "2024-11-29T21:05:37.989064Z",
          "shell.execute_reply": "2024-11-29T21:05:38.157422Z"
        },
        "id": "3wancoUdShdI"
      },
      "outputs": [],
      "execution_count": null
    },
    {
      "cell_type": "code",
      "source": [
        "y_pred_RFC = model_RFC.predict(x_test)\n",
        "y_pred_RFC"
      ],
      "metadata": {
        "trusted": true,
        "execution": {
          "iopub.status.busy": "2024-11-29T21:05:38.159801Z",
          "iopub.execute_input": "2024-11-29T21:05:38.160115Z",
          "iopub.status.idle": "2024-11-29T21:05:38.223507Z",
          "shell.execute_reply.started": "2024-11-29T21:05:38.160084Z",
          "shell.execute_reply": "2024-11-29T21:05:38.22218Z"
        },
        "id": "vUvOwTFxShdI"
      },
      "outputs": [],
      "execution_count": null
    },
    {
      "cell_type": "code",
      "source": [
        "Accuracy_RFC0 = accuracy_score(y_test, y_pred_RFC)\n",
        "print('Accuracy : ', Accuracy_RFC0*100,'%')"
      ],
      "metadata": {
        "trusted": true,
        "execution": {
          "iopub.status.busy": "2024-11-29T21:05:38.225369Z",
          "iopub.execute_input": "2024-11-29T21:05:38.225906Z",
          "iopub.status.idle": "2024-11-29T21:05:38.236819Z",
          "shell.execute_reply.started": "2024-11-29T21:05:38.225854Z",
          "shell.execute_reply": "2024-11-29T21:05:38.23524Z"
        },
        "id": "0pWc6bV6ShdI"
      },
      "outputs": [],
      "execution_count": null
    },
    {
      "cell_type": "code",
      "source": [
        "model_LogR = LogisticRegression()\n",
        "model_LogR.fit(x_train, y_train)"
      ],
      "metadata": {
        "trusted": true,
        "execution": {
          "iopub.status.busy": "2024-11-29T21:05:38.239244Z",
          "iopub.execute_input": "2024-11-29T21:05:38.239815Z",
          "iopub.status.idle": "2024-11-29T21:05:38.327652Z",
          "shell.execute_reply.started": "2024-11-29T21:05:38.239761Z",
          "shell.execute_reply": "2024-11-29T21:05:38.324758Z"
        },
        "id": "kyWSBqyrShdI"
      },
      "outputs": [],
      "execution_count": null
    },
    {
      "cell_type": "code",
      "source": [
        "Accuracy_LogR = model_LogR.score(x_test, y_test)\n",
        "print('Accuracy : ', Accuracy_LogR*100, '%')"
      ],
      "metadata": {
        "trusted": true,
        "execution": {
          "iopub.status.busy": "2024-11-29T21:05:38.329626Z",
          "iopub.execute_input": "2024-11-29T21:05:38.330688Z",
          "iopub.status.idle": "2024-11-29T21:05:38.351966Z",
          "shell.execute_reply.started": "2024-11-29T21:05:38.330607Z",
          "shell.execute_reply": "2024-11-29T21:05:38.34832Z"
        },
        "id": "GmAPChIMShdJ"
      },
      "outputs": [],
      "execution_count": null
    },
    {
      "cell_type": "code",
      "source": [
        "model_LogR.score(x_train, y_train)"
      ],
      "metadata": {
        "trusted": true,
        "execution": {
          "iopub.status.busy": "2024-11-29T21:05:38.35397Z",
          "iopub.execute_input": "2024-11-29T21:05:38.354634Z",
          "iopub.status.idle": "2024-11-29T21:05:38.382619Z",
          "shell.execute_reply.started": "2024-11-29T21:05:38.354566Z",
          "shell.execute_reply": "2024-11-29T21:05:38.380429Z"
        },
        "id": "jyE_vsIkShdJ"
      },
      "outputs": [],
      "execution_count": null
    },
    {
      "cell_type": "code",
      "source": [
        "y_pred_LogR = model_LogR.predict(x_test)\n",
        "y_pred_LogR"
      ],
      "metadata": {
        "trusted": true,
        "execution": {
          "iopub.status.busy": "2024-11-29T21:05:38.38463Z",
          "iopub.execute_input": "2024-11-29T21:05:38.386677Z",
          "iopub.status.idle": "2024-11-29T21:05:38.40885Z",
          "shell.execute_reply.started": "2024-11-29T21:05:38.386588Z",
          "shell.execute_reply": "2024-11-29T21:05:38.406865Z"
        },
        "id": "0-hPGVUJShdJ"
      },
      "outputs": [],
      "execution_count": null
    },
    {
      "cell_type": "code",
      "source": [
        "Accuracy_LogR0 = accuracy_score(y_test, y_pred_LogR)\n",
        "print('Accuracy : ', Accuracy_LogR0*100,'%')"
      ],
      "metadata": {
        "trusted": true,
        "execution": {
          "iopub.status.busy": "2024-11-29T21:05:38.410697Z",
          "iopub.execute_input": "2024-11-29T21:05:38.41427Z",
          "iopub.status.idle": "2024-11-29T21:05:38.440893Z",
          "shell.execute_reply.started": "2024-11-29T21:05:38.414167Z",
          "shell.execute_reply": "2024-11-29T21:05:38.43534Z"
        },
        "id": "Kq5rmOOZShdJ"
      },
      "outputs": [],
      "execution_count": null
    },
    {
      "cell_type": "code",
      "source": [
        "y_prob_LogR = model_LogR.predict_proba(x_test)[:, 1]\n",
        "fpr, tpr, threshold = roc_curve(y_test, y_prob_LogR)\n",
        "\n",
        "plt.figure(figsize = (10,5))\n",
        "plt.plot(fpr, tpr, color='green', lw=2)\n",
        "plt.plot([0, 1], [0, 1], color='black', lw=2)\n",
        "plt.xlabel('False Postive')\n",
        "plt.ylabel('True Postive')\n",
        "plt.title(f'LogisticRegression, Accuracy: {Accuracy_LogR*100:.2f}%')\n",
        "plt.show()"
      ],
      "metadata": {
        "trusted": true,
        "execution": {
          "iopub.status.busy": "2024-11-29T21:05:38.443118Z",
          "iopub.execute_input": "2024-11-29T21:05:38.445033Z",
          "iopub.status.idle": "2024-11-29T21:05:38.759063Z",
          "shell.execute_reply.started": "2024-11-29T21:05:38.444933Z",
          "shell.execute_reply": "2024-11-29T21:05:38.757523Z"
        },
        "id": "b_PrG2cDShdR"
      },
      "outputs": [],
      "execution_count": null
    },
    {
      "cell_type": "code",
      "source": [
        "y_prob_RFC = model_RFC.predict_proba(x_test)[:, 1]\n",
        "fpr1, tpr1, threshold = roc_curve(y_test, y_prob_RFC)\n",
        "\n",
        "plt.figure(figsize = (10,5))\n",
        "plt.plot(fpr1, tpr1, color='blue', lw=2)\n",
        "plt.plot([0, 1], [0, 1], color='black', lw=2)\n",
        "plt.xlabel('False Postive')\n",
        "plt.ylabel('True Postive')\n",
        "plt.title(f'RandomForestClassifier, Accuracy: {Accuracy_RFC*100:.2f}%')\n",
        "plt.show()"
      ],
      "metadata": {
        "trusted": true,
        "execution": {
          "iopub.status.busy": "2024-11-29T21:05:38.761151Z",
          "iopub.execute_input": "2024-11-29T21:05:38.761561Z",
          "iopub.status.idle": "2024-11-29T21:05:39.119366Z",
          "shell.execute_reply.started": "2024-11-29T21:05:38.761522Z",
          "shell.execute_reply": "2024-11-29T21:05:39.117493Z"
        },
        "id": "rgxLpiTjShdS"
      },
      "outputs": [],
      "execution_count": null
    },
    {
      "cell_type": "code",
      "source": [],
      "metadata": {
        "trusted": true,
        "id": "8a-l_znAShdS"
      },
      "outputs": [],
      "execution_count": null
    }
  ]
}